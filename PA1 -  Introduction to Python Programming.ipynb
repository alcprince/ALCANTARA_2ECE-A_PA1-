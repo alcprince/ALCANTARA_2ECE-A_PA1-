{
 "cells": [
  {
   "cell_type": "markdown",
   "id": "fe8c1f93-cbee-4edb-9723-b4f3ee0e1089",
   "metadata": {},
   "source": [
    " <big><b><u>PA1 -  Alphabet Soup Problem"
   ]
  },
  {
   "cell_type": "markdown",
   "id": "d16baa94-2041-4770-bdd4-73eb388be05f",
   "metadata": {},
   "source": [
    "Objective: A function that takes a string and returns a string with its letters\n",
    "in alphabetical order."
   ]
  },
  {
   "cell_type": "code",
   "execution_count": 1,
   "id": "b835c3a2-1ee8-49ef-8683-40428cb5c6d9",
   "metadata": {},
   "outputs": [
    {
     "name": "stdin",
     "output_type": "stream",
     "text": [
      "Enter any phrase/s:  orange\n"
     ]
    }
   ],
   "source": [
    "c = input (\"Enter any phrase/s: \") "
   ]
  },
  {
   "cell_type": "code",
   "execution_count": 2,
   "id": "bbb7d471-f860-43b1-830b-20ed7c726da6",
   "metadata": {},
   "outputs": [
    {
     "name": "stdout",
     "output_type": "stream",
     "text": [
      "aegnor\n"
     ]
    }
   ],
   "source": [
    "d = sorted(c) #For sorting in ASCII order.\n",
    "e = ''.join(d) #For conjoining the string variables with no spaces\n",
    "print(e)"
   ]
  },
  {
   "cell_type": "markdown",
   "id": "0c4bbf74-318b-4372-83f8-a08119faa4cf",
   "metadata": {},
   "source": [
    " <big><b><u>PA1 -  Emoticon Problem"
   ]
  },
  {
   "cell_type": "markdown",
   "id": "9359d871-debf-411d-a51f-bf1badc5966c",
   "metadata": {},
   "source": [
    "Objective: A function that changes specific words into emoticons. Given a sentence\n",
    "as a string, replace the words smile, grin, sad and mad with their corresponding emoticon."
   ]
  },
  {
   "cell_type": "code",
   "execution_count": 127,
   "id": "fb48f86c-66a7-4422-92f0-65247c9170b8",
   "metadata": {},
   "outputs": [
    {
     "name": "stdin",
     "output_type": "stream",
     "text": [
      "Enter any phrase/s:  Why are you in grin but also mad at me? I'm smile\n"
     ]
    }
   ],
   "source": [
    "emotify = input (\"Enter any phrase/s: \")"
   ]
  },
  {
   "cell_type": "code",
   "execution_count": 130,
   "id": "eb601abe-3d43-4516-9bb1-cac7f09d52b4",
   "metadata": {},
   "outputs": [
    {
     "data": {
      "text/plain": [
       "\"Why are you in :D but also >:(( at me? I'm :)\""
      ]
     },
     "execution_count": 130,
     "metadata": {},
     "output_type": "execute_result"
    }
   ],
   "source": [
    "emotify.replace(\"smile\", \":)\").replace(\"grin\", \":D\").replace(\"sad\", \":((\").replace(\"mad\", \">:((\")\n",
    "#Replaces the words with its corresponding emoticons."
   ]
  },
  {
   "cell_type": "markdown",
   "id": "66138985-58ae-4a54-8412-aa3d8877b8e4",
   "metadata": {},
   "source": [
    " <big><b><u>PA1 -  Unpacking Problem"
   ]
  },
  {
   "cell_type": "markdown",
   "id": "d58e5d75-f320-447b-84db-f151c19cfc55",
   "metadata": {},
   "source": [
    "Objective:  Unpack the list <u>writeyourcodehere</u> into three variables, being first,\n",
    "middle, and last, with middle being everything in between the first and last element. Then print all three\n",
    "variables"
   ]
  },
  {
   "cell_type": "code",
   "execution_count": 5,
   "id": "d74701eb-d42c-4586-bf48-740f85183ce4",
   "metadata": {},
   "outputs": [],
   "source": [
    "writeyourcodehere = [\"1\", \"2\", \"3\", \"4\", \"5\", \"6\"]"
   ]
  },
  {
   "cell_type": "code",
   "execution_count": 6,
   "id": "58d30822-a265-4bef-83ef-84dbb17c3c3f",
   "metadata": {},
   "outputs": [
    {
     "name": "stdout",
     "output_type": "stream",
     "text": [
      "First:  1\n",
      "Last:  6\n",
      "Middle:  ['2', '3', '4', '5']\n"
     ]
    }
   ],
   "source": [
    "print(\"First: \", writeyourcodehere[0]) #Prints out first element in the list.\n",
    "print(\"Last: \", writeyourcodehere[-1]) #Prints out last element in the list.\n",
    "print(\"Middle: \", writeyourcodehere[1:-1]) #Prints out what is in between the first and last element."
   ]
  }
 ],
 "metadata": {
  "kernelspec": {
   "display_name": "Python 3 (ipykernel)",
   "language": "python",
   "name": "python3"
  },
  "language_info": {
   "codemirror_mode": {
    "name": "ipython",
    "version": 3
   },
   "file_extension": ".py",
   "mimetype": "text/x-python",
   "name": "python",
   "nbconvert_exporter": "python",
   "pygments_lexer": "ipython3",
   "version": "3.13.5"
  }
 },
 "nbformat": 4,
 "nbformat_minor": 5
}
